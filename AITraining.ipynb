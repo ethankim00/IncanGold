{
 "cells": [
  {
   "cell_type": "code",
   "execution_count": 5,
   "metadata": {},
   "outputs": [],
   "source": [
    "import numpy as np\n",
    "import pandas as pd\n",
    "### cs109default ### \n",
    "import random\n",
    "random.seed(112358)\n",
    "import matplotlib.pyplot as plt\n",
    "import math\n",
    "import copy\n",
    "from sklearn.model_selection import cross_val_score\n",
    "from sklearn.utils import resample\n",
    "from sklearn.tree import DecisionTreeClassifier\n",
    "from sklearn.ensemble import RandomForestClassifier\n",
    "from sklearn.ensemble import AdaBoostClassifier\n",
    "from sklearn.linear_model import LogisticRegressionCV\n",
    "from sklearn.model_selection import train_test_split\n",
    "from sklearn.metrics import confusion_matrix\n",
    "from sklearn.preprocessing import scale\n",
    "from sklearn.metrics import roc_auc_score,accuracy_score\n",
    "from sklearn.model_selection import GridSearchCV\n",
    "from random import randint \n",
    "from sklearn import tree\n",
    "%matplotlib inline\n",
    "import seaborn as sns\n",
    "pd.set_option('display.width', 1500)\n",
    "pd.set_option('display.max_columns', 100)\n",
    "from sklearn.utils import shuffle"
   ]
  },
  {
   "cell_type": "code",
   "execution_count": 87,
   "metadata": {},
   "outputs": [],
   "source": [
    "num_artifacts = 4\n",
    "class Card:\n",
    "    def __init__(self, points, danger, artifact):\n",
    "        # Number of points\n",
    "        self.points = points\n",
    "        # Type of danger (choose from 5)\n",
    "        self.danger = danger\n",
    "        # Is it an artifact or not\n",
    "        self.artifact = artifact\n",
    "\n",
    "    def show(self):\n",
    "        # Show value of card:\n",
    "        if self.points != 0:\n",
    "            print(\"Treasure! Value: {}\".format(self.points))\n",
    "        if self.danger != None:\n",
    "            print(\"Danger: {}\".format(self.danger))\n",
    "        if self.artifact:\n",
    "            print(\"Artifact\")\n",
    "\n",
    "dangers = ['Mummy', \"Fire\", \"Avalanche\", \"Serpent\", \"Spiders\"]\n",
    "\n",
    "num_dangers = 3\n",
    "\n",
    "players = ['A','B', 'C', 'D', 'E']\n",
    "\n",
    "class Deck:\n",
    "    def __init__(self, num_artifacts):\n",
    "        self.cards = []\n",
    "        self.build()\n",
    "\n",
    "    def build(self):\n",
    "        # Insert Dangers\n",
    "        for danger in dangers:\n",
    "            for i in range(0, num_dangers):\n",
    "                self.cards.append(Card(0, danger, None))\n",
    "        #Insert treasure cards\n",
    "        treasures = [1,2,3,4,5,5,7,7,9,11,11,13,14,15,17]\n",
    "        for treasure in treasures:\n",
    "                self.cards.append(Card(treasure, None, None))\n",
    "        #Insert Artifacts\n",
    "        for i in range (0, num_artifacts):\n",
    "            self.cards.append(Card(0, None, True))\n",
    "\n",
    "    def shows(self):\n",
    "        for c in self.cards:\n",
    "            c.show()\n",
    "            \n",
    "    def shuffle(self):\n",
    "        for i in range(len(self.cards) -1, 0, -1):\n",
    "            r = random.randint(0,i)\n",
    "            #Swap cards\n",
    "            self.cards[i], self.cards[r] = self.cards[r], self.cards[i]\n",
    "    def draw (self):\n",
    "        return self.cards.pop()\n",
    "\n",
    "\n",
    "class Player:\n",
    "    def __init__(self, player, strat):\n",
    "        self.name = player\n",
    "        self.score = 0\n",
    "        self.loot = 0\n",
    "        # Variables AI can use to make decisions\n",
    "        self.number_dangers = 0\n",
    "        self.num_players = 0\n",
    "        self.expected_value = 0\n",
    "        self.leader_score = 0\n",
    "        self.strat = strat#str(input(\"Enter Strategy: \"))\n",
    "        self.prob_dying = 0\n",
    "        # Extra gold to be gained from going back\n",
    "        self.extra = 0\n",
    "        self.num_artifacts = 0\n",
    "        self.round_number = 1\n",
    "        self.decision_df = pd.DataFrame(columns = ['score', 'loot', 'num_dangers', 'num_players', 'expected_value', 'leader_score', 'prob_dying', 'extra', 'num_artifacts', 'round_number'])\n",
    "    # Choice of whether to go forward or backward\n",
    "    # https://gist.github.com/garrettdreyfus/8153571\n",
    "    # If player type is normal, propmpts user for input, else makes choice\n",
    "    # based off of AI strategy\n",
    "    def choose(self):\n",
    "        if self.strat == \"normal\":\n",
    "            while \"invalid\":\n",
    "                print(\"Make a choice {}\".format(self.name))\n",
    "                print(\"Your current score is {}\". format(self.score))\n",
    "                print(\"Your current loot is {}\\n\\n\\n\\n\\n\".format(self.loot))\n",
    "                check = str(input(\"Proceed into Temple? (Y/N):\")).lower().strip()\n",
    "                if check[0] == 'y':\n",
    "                    return True\n",
    "                elif check[0] == 'n':\n",
    "                    return False\n",
    "                else:\n",
    "                    print('Invalid Input')\n",
    "        elif self.strat == \"AI Basic\":\n",
    "\n",
    "            a = random.random()\n",
    "            if a < 0.8:\n",
    "                return True\n",
    "            else:\n",
    "                return False\n",
    "                                        \n",
    "        elif self.strat == \"AI 2nd-Gen\":\n",
    "            self.decision_df = self.decision_df.append({'score':self.score, 'loot':self.loot, 'num_dangers':self.number_dangers, 'num_players':self.num_players, 'expected_value':self.expected_value, 'leader_score':self.leader_score, 'prob_dying':self.prob_dying, 'extra':self.extra, 'num_artifacts':self.num_artifacts,'round_number':self.round_number}, ignore_index = True)\n",
    "            y_predict = (gen2.predict_proba(self.decision_df)>0.675)[0][1]\n",
    "            # Clear dataframe = \n",
    "            self.decision_df = pd.DataFrame(columns = ['score', 'loot', 'num_dangers', 'num_players', 'expected_value', 'leader_score', 'prob_dying', 'extra', 'num_artifacts', 'round_number'])\n",
    "            a = random.random()\n",
    "            if a < 0.9:\n",
    "                return y_predict\n",
    "            else:\n",
    "                return not y_predict\n",
    "        elif self.strat == 'AI 3rd-Gen':\n",
    "            self.decision_df = self.decision_df.append({'score':self.score, 'loot':self.loot, 'num_dangers':self.number_dangers, 'num_players':self.num_players, 'expected_value':self.expected_value, 'leader_score':self.leader_score, 'prob_dying':self.prob_dying, 'extra':self.extra, 'num_artifacts':self.num_artifacts,'round_number':self.round_number}, ignore_index = True)\n",
    "            y_predict = (gen3.predict_proba(self.decision_df)>0.675)[0][1]\n",
    "            # Clear dataframe = \n",
    "            self.decision_df = pd.DataFrame(columns = ['score', 'loot', 'num_dangers', 'num_players', 'expected_value', 'leader_score', 'prob_dying', 'extra', 'num_artifacts', 'round_number'])\n",
    "            a = random.random()\n",
    "            if a < 0.9:\n",
    "                return y_predict\n",
    "            else:\n",
    "                return not y_predict\n",
    "            \n",
    "            \n",
    "    # Player gains loot from treasure cards\n",
    "    def add_loot(self, loot_share):\n",
    "        self.loot += loot_share\n",
    "    # Player retreats and transfers loot to tent\n",
    "\n",
    "    def retreat(self):\n",
    "        # Convert loot to score\n",
    "        self.score += self.loot\n",
    "        # Set loot = to 0 \n",
    "        self.loot = 0\n",
    "\n",
    "    def die(self):\n",
    "        self.loot = 0\n",
    "\n",
    "# Game engines runs a game\n",
    "class Game:\n",
    "    # Input number of players\n",
    "    def __init__(self, player_number):\n",
    "        self.players = []\n",
    "        for i in range(0, player_number):\n",
    "            player = Player(players[i], strategies[i])\n",
    "            self.players.append(player)\n",
    "        # Create player object for each player\n",
    "        self.round_results = pd.DataFrame(columns = ['name','score', 'loot', 'num_dangers', 'num_players', 'expected_value', 'leader_score', 'prob_dying', 'extra', 'num_artifacts', 'round_number','decision'])\n",
    "        self.game_results = pd.DataFrame(columns = ['name','score', 'loot', 'num_dangers', 'num_players', 'expected_value', 'leader_score', 'prob_dying', 'extra', 'num_artifacts', 'round_number','decision'])\n",
    "        # Round function\n",
    "        self.artifacts_taken = 0 \n",
    "        \n",
    "    def Round(self,round_number):\n",
    "        # Build and shuffle a deck\n",
    "        #print('Round {}:'.format(round_number))\n",
    "        #Create Dataframe to store results\n",
    "        results_temp = self.round_results\n",
    "        deck = Deck(round_number - self.artifacts_taken)\n",
    "        deck.shuffle()\n",
    "        extra = 0\n",
    "        dangers_ = []\n",
    "        num_artifacts = 0\n",
    "        counter = 0\n",
    "        # Total Value of all treasure cards\n",
    "        value = 124\n",
    "        # Repeat until all players have left or death occurs\n",
    "        while \"round is active\":\n",
    "        # Get input from all players\n",
    "            if counter == 0:\n",
    "                # Active players will be a list of the indices of the players in self.players who are active\n",
    "                active_players = [i for i in range(0, len(self.players))]\n",
    "\n",
    "            counter += 1\n",
    "            # List of players who are leaving\n",
    "            leaving_players = []\n",
    "\n",
    "            for player in active_players:\n",
    "                choice = self.players[player].choose()\n",
    "                #print(active_players)\n",
    "                if choice == False:\n",
    "                    results_temp = results_temp.append({'name':self.players[player].name,'score':self.players[player].score, 'loot':self.players[player].loot, 'num_dangers':self.players[player].number_dangers, 'num_players':self.players[player].num_players, 'expected_value':self.players[player].expected_value, 'leader_score':self.players[player].leader_score, 'prob_dying':self.players[player].prob_dying, 'extra':self.players[player].extra, 'num_artifacts':self.players[player].num_artifacts,'round_number':round_number, 'decision': 0},ignore_index = True)\n",
    "                    # Update players still in game\n",
    "                    leaving_players.append(player)\n",
    "                elif choice == True:\n",
    "                    results_temp = results_temp.append({'name':self.players[player].name,'score':self.players[player].score, 'loot':self.players[player].loot, 'num_dangers':self.players[player].number_dangers, 'num_players':self.players[player].num_players, 'expected_value':self.players[player].expected_value, 'leader_score':self.players[player].leader_score, 'prob_dying':self.players[player].prob_dying, 'extra':self.players[player].extra, 'num_artifacts':self.players[player].num_artifacts,'round_number':round_number, 'decision': 1},ignore_index = True)\n",
    "                    # Remove player from active players\n",
    "                    # Why is this removing from self.players as well\n",
    "            for player in leaving_players:\n",
    "                active_players.remove(player)\n",
    "            # Handle Leaving players\n",
    "            num_leaving = len(leaving_players)\n",
    "            if num_leaving != 0:\n",
    "                leaving_split = math.floor(extra/num_leaving)\n",
    "                if num_artifacts != 0:\n",
    "                    artifact_split = math.floor(num_artifacts/num_leaving)\n",
    "                    self.artifacts_taken = self.artifacts_taken + num_artifacts\n",
    "                    if artifact_split !=0:\n",
    "                        num_artifacts = num_artifacts % artifact_split\n",
    "                else:\n",
    "                    artifact_split = 0\n",
    "            else:\n",
    "                leaving_split = 0\n",
    "            if leaving_split != 0:\n",
    "                extra = extra % leaving_split\n",
    "            for player in leaving_players:\n",
    "                self.players[player].add_loot(leaving_split)\n",
    "                if self.artifacts_taken < 4:\n",
    "                    self.players[player].add_loot(5 * artifact_split)\n",
    "                else:\n",
    "                    self.players[player].add_loot(10 * artifact_split)\n",
    "                self.players[player].retreat()\n",
    "            # Make sure there are players still active\n",
    "            num_players = len(active_players)\n",
    "            if (num_players == 0):\n",
    "                self.game_results = self.game_results.append(results_temp, ignore_index = True)\n",
    "                active_players =  [i for i in range(0, len(self.players))]\n",
    "                return False\n",
    "            # Draw card off of deck\n",
    "            card = deck.draw()\n",
    "            #card.show()\n",
    "            # If danger update danger\n",
    "            if card.danger != None:\n",
    "                # If death end round\n",
    "                if card.danger in dangers_:\n",
    "                    #print(\"You died to {}\".format(card.danger))\n",
    "                    self.game_results = self.game_results.append(results_temp, ignore_index = True)\n",
    "                    for player in active_players:\n",
    "                        self.players[player].die()\n",
    "                    active_players = [i for i in range(0, len(self.players))]\n",
    "                    return False\n",
    "                else:\n",
    "                    dangers_.append(card.danger)\n",
    "            # If card is artifact, print number of artifacts.\n",
    "\n",
    "            if card.artifact:\n",
    "                num_artifacts += 1\n",
    "\n",
    "            # If treasure split treasures\n",
    "            split = math.floor(card.points / num_players)\n",
    "\n",
    "            # Add loot for active players\n",
    "            for player in active_players:\n",
    "                self.players[player].add_loot(split)\n",
    "            # Update treaure on path\n",
    "            extra += (card.points % num_players)\n",
    "\n",
    "            # Calculate Expected value of next card\n",
    "            value = value - card.points\n",
    "            # 30 - counter is the number of cards left in deck\n",
    "            ev = value/(30 - counter)\n",
    "            # Calculate score of player in the lead\n",
    "            scores = []\n",
    "            for player in self.players:\n",
    "                scores.append(player.score)\n",
    "            prob_dying = (2*len(dangers_))/(30-counter)\n",
    "            # Update player objects with information that they can make decicions off of\n",
    "            for player in active_players:\n",
    "                self.players[player].number_dangers = len(dangers_)\n",
    "                self.players[player].num_players = len(active_players)\n",
    "                self.players[player].expected_value = ev\n",
    "                self.players[player].leader_score = max(scores)\n",
    "                self.players[player].prob_dying = prob_dying\n",
    "                self.players[player].extra = extra\n",
    "                self.players[player].num_artifacts = num_artifacts\n",
    "                self.players[player].round_number = round_number\n",
    "        \n",
    "\n",
    "    # Run Appropriate Number of Rounds\n",
    "    def play_game(self):\n",
    "        # Run 4 Rounds\n",
    "        for i in range(0,5):\n",
    "            self.Round(i+1)\n",
    "\n",
    "        scores = []\n",
    "        #print(self.players)\n",
    "        for player in self.players:\n",
    "            #print(\"{} has {} points\".format(player.name, player.score))\n",
    "            scores.append(player.score)\n",
    "            player.score = 0\n",
    "        winner = self.players[scores.index(max(scores))].name\n",
    "        #print(\"Winner is {}\".format(winner))\n",
    "        winner_results = self.game_results[self.game_results['name'] == winner]\n",
    "        self.game_results = pd.DataFrame(columns = ['name','score', 'loot', 'num_dangers', 'num_players', 'expected_value', 'leader_score', 'prob_dying', 'extra', 'num_artifacts', 'round_number','decision'])\n",
    "        return winner, winner_results\n",
    "        # Update results dataframe with moves made by winning plater\n",
    "        \n",
    "\n",
    "    # Tally scoress and declare winner.\n",
    "# Implements a single round of the game"
   ]
  },
  {
   "cell_type": "markdown",
   "metadata": {},
   "source": [
    "# First Generation\n",
    "Play AIs making random moves against each other and record the set of moves made by the winning player "
   ]
  },
  {
   "cell_type": "code",
   "execution_count": 25,
   "metadata": {},
   "outputs": [],
   "source": [
    "results1 = pd.DataFrame(columns = ['name','score', 'loot', 'num_dangers', 'num_players', 'expected_value', 'leader_score', 'prob_dying', 'extra', 'num_artifacts','round_number', 'decision'])\n",
    "strategies = ['AI Basic' for i in range(0, 5)]\n",
    "winners = []\n",
    "for i in range(0,2000):\n",
    "    game = Game(5)\n",
    "    winner, result = game.play_game()\n",
    "    winners.append(winner)\n",
    "    results1 = results1.append(result)"
   ]
  },
  {
   "cell_type": "code",
   "execution_count": 29,
   "metadata": {},
   "outputs": [],
   "source": [
    "results1.to_csv('Data/gen_1.csv')"
   ]
  },
  {
   "cell_type": "code",
   "execution_count": 41,
   "metadata": {},
   "outputs": [
    {
     "data": {
      "text/plain": [
       "dict_values([400, 378, 394, 411, 417])"
      ]
     },
     "execution_count": 41,
     "metadata": {},
     "output_type": "execute_result"
    }
   ],
   "source": [
    "from collections import Counter\n",
    "\n",
    "freqs = Counter(winners)\n",
    "freqs.values()"
   ]
  },
  {
   "cell_type": "code",
   "execution_count": 53,
   "metadata": {},
   "outputs": [
    {
     "name": "stderr",
     "output_type": "stream",
     "text": [
      "No handles with labels found to put in legend.\n"
     ]
    },
    {
     "data": {
      "image/png": "[encoded data removed]",
      "text/plain": [
       "<Figure size 432x288 with 1 Axes>"
      ]
     },
     "metadata": {},
     "output_type": "display_data"
    }
   ],
   "source": [
    "# Plot Winning Frequencies\n",
    "y = np.array([400, 378, 394, 411, 417])/2000\n",
    "# Make the plot\n",
    "x = [i for i, _ in enumerate(strategies)]\n",
    "plt.bar(x, y, linewidth=3, linestyle=\"--\",\n",
    "         color=\"blue\", alpha = 0.5)\n",
    "plt.xlabel(r\"Strategy\")\n",
    "plt.ylabel(r\"Winning Percentage\")\n",
    "plt.title(r\"Generation 1 Results\")\n",
    "plt.legend(loc=\"lower left\")\n",
    "plt.xticks(x, strategies)\n",
    "plt.show()"
   ]
  },
  {
   "cell_type": "markdown",
   "metadata": {},
   "source": [
    "# Second Generation"
   ]
  },
  {
   "cell_type": "markdown",
   "metadata": {},
   "source": [
    "## Train RF model off of winning moves from first generation"
   ]
  },
  {
   "cell_type": "code",
   "execution_count": 59,
   "metadata": {},
   "outputs": [],
   "source": [
    "results1 = results1.drop('name', axis = 1)"
   ]
  },
  {
   "cell_type": "code",
   "execution_count": 60,
   "metadata": {},
   "outputs": [],
   "source": [
    "# Predict correct move from inputs using logistic regression\n",
    "X_train, X_test, y_train, y_test =train_test_split(results1.loc[:, results1.columns != 'decision'], \n",
    "                                                         results1.decision, test_size=0.2, \n",
    "                                                         random_state = 109\n",
    "                                                        )"
   ]
  },
  {
   "cell_type": "code",
   "execution_count": 61,
   "metadata": {},
   "outputs": [
    {
     "data": {
      "text/plain": [
       "RandomForestClassifier(bootstrap=True, ccp_alpha=0.0, class_weight=None,\n",
       "                       criterion='gini', max_depth=10, max_features='auto',\n",
       "                       max_leaf_nodes=None, max_samples=None,\n",
       "                       min_impurity_decrease=0.0, min_impurity_split=None,\n",
       "                       min_samples_leaf=1, min_samples_split=2,\n",
       "                       min_weight_fraction_leaf=0.0, n_estimators=55,\n",
       "                       n_jobs=None, oob_score=False, random_state=None,\n",
       "                       verbose=0, warm_start=False)"
      ]
     },
     "execution_count": 61,
     "metadata": {},
     "output_type": "execute_result"
    }
   ],
   "source": [
    "y_train = y_train.astype('int')\n",
    "y_test = y_test.astype('int')\n",
    "random_forest = RandomForestClassifier(n_estimators = 55, max_depth = 10, max_features = 'auto') \n",
    "random_forest.fit(X_train, y_train)"
   ]
  },
  {
   "cell_type": "code",
   "execution_count": 63,
   "metadata": {},
   "outputs": [],
   "source": [
    "import joblib\n",
    "joblib.dump(random_forest, 'Models/gen2')\n",
    "gen2 = joblib.load('Models/gen2')"
   ]
  },
  {
   "cell_type": "code",
   "execution_count": 67,
   "metadata": {},
   "outputs": [
    {
     "data": {
      "text/plain": [
       "0.8261240144896654"
      ]
     },
     "execution_count": 67,
     "metadata": {},
     "output_type": "execute_result"
    }
   ],
   "source": [
    "gen2.score(X_test, y_test)"
   ]
  },
  {
   "cell_type": "code",
   "execution_count": 71,
   "metadata": {},
   "outputs": [],
   "source": [
    "results2 = pd.DataFrame(columns = ['name','score', 'loot', 'num_dangers', 'num_players', 'expected_value', 'leader_score', 'prob_dying', 'extra', 'num_artifacts','round_number', 'decision'])\n",
    "strategies = ['AI Basic', 'AI Basic', \"AI 2nd-Gen\", \"AI 2nd-Gen\", \"AI 2nd-Gen\"]\n",
    "winners = []\n",
    "for i in range(0,2000):\n",
    "    game = Game(5)\n",
    "    winner, result = game.play_game()\n",
    "    winners.append(winner)\n",
    "    results2 = results2.append(result)"
   ]
  },
  {
   "cell_type": "code",
   "execution_count": 73,
   "metadata": {},
   "outputs": [],
   "source": [
    "results2.to_csv('Data/gen2.csv')"
   ]
  },
  {
   "cell_type": "code",
   "execution_count": 79,
   "metadata": {},
   "outputs": [
    {
     "data": {
      "text/plain": [
       "dict_values([504, 498, 488, 239, 271])"
      ]
     },
     "execution_count": 79,
     "metadata": {},
     "output_type": "execute_result"
    }
   ],
   "source": [
    "freqs = Counter(winners)\n",
    "freqs.values()"
   ]
  },
  {
   "cell_type": "code",
   "execution_count": 80,
   "metadata": {},
   "outputs": [
    {
     "name": "stderr",
     "output_type": "stream",
     "text": [
      "No handles with labels found to put in legend.\n"
     ]
    },
    {
     "data": {
      "image/png": "[encoded data removed]",
      "text/plain": [
       "<Figure size 432x288 with 1 Axes>"
      ]
     },
     "metadata": {},
     "output_type": "display_data"
    }
   ],
   "source": [
    "y = np.array([239, 271,504, 498, 488])/2000\n",
    "# Make the plot\n",
    "x = [i for i, _ in enumerate(strategies)]\n",
    "plt.bar(x, y, linewidth=3, linestyle=\"--\",\n",
    "         color=\"blue\", alpha = 0.5)\n",
    "plt.xlabel(r\"Strategy\")\n",
    "plt.ylabel(r\"Winning Percentage\")\n",
    "plt.title(r\"Generation 1 Results\")\n",
    "plt.legend(loc=\"lower left\")\n",
    "plt.xticks(x, strategies)\n",
    "plt.show()"
   ]
  },
  {
   "cell_type": "markdown",
   "metadata": {},
   "source": [
    "# 3rd Generation"
   ]
  },
  {
   "cell_type": "code",
   "execution_count": 74,
   "metadata": {},
   "outputs": [],
   "source": [
    "results2 = results2.drop('name', axis = 1)"
   ]
  },
  {
   "cell_type": "code",
   "execution_count": 81,
   "metadata": {},
   "outputs": [],
   "source": [
    "# Predict correct move from inputs using logistic regression\n",
    "X_train2, X_test2, y_train2, y_test2 =train_test_split(results2.loc[:, results2.columns != 'decision'], \n",
    "                                                         results2.decision, test_size=0.2, \n",
    "                                                         random_state = 109\n",
    "                                                        )"
   ]
  },
  {
   "cell_type": "code",
   "execution_count": 82,
   "metadata": {},
   "outputs": [
    {
     "data": {
      "text/plain": [
       "RandomForestClassifier(bootstrap=True, ccp_alpha=0.0, class_weight=None,\n",
       "                       criterion='gini', max_depth=10, max_features='auto',\n",
       "                       max_leaf_nodes=None, max_samples=None,\n",
       "                       min_impurity_decrease=0.0, min_impurity_split=None,\n",
       "                       min_samples_leaf=1, min_samples_split=2,\n",
       "                       min_weight_fraction_leaf=0.0, n_estimators=55,\n",
       "                       n_jobs=None, oob_score=False, random_state=None,\n",
       "                       verbose=0, warm_start=False)"
      ]
     },
     "execution_count": 82,
     "metadata": {},
     "output_type": "execute_result"
    }
   ],
   "source": [
    "y_train2 = y_train2.astype('int')\n",
    "y_test2 = y_test2.astype('int')\n",
    "gen3 = RandomForestClassifier(n_estimators = 55, max_depth = 10, max_features = 'auto') \n",
    "gen3.fit(X_train2, y_train2)"
   ]
  },
  {
   "cell_type": "code",
   "execution_count": 84,
   "metadata": {},
   "outputs": [
    {
     "data": {
      "text/plain": [
       "['Models/gen3']"
      ]
     },
     "execution_count": 84,
     "metadata": {},
     "output_type": "execute_result"
    }
   ],
   "source": [
    "joblib.dump(gen3,'Models/gen3')"
   ]
  },
  {
   "cell_type": "code",
   "execution_count": 94,
   "metadata": {},
   "outputs": [],
   "source": [
    "results3 = pd.DataFrame(columns = ['name','score', 'loot', 'num_dangers', 'num_players', 'expected_value', 'leader_score', 'prob_dying', 'extra', 'num_artifacts','round_number', 'decision'])\n",
    "strategies = [\"AI 2nd-Gen\", \"AI 2nd-Gen\", \"AI 3rd-Gen\",\"AI 3rd-Gen\", \"AI 3rd-Gen\"]\n",
    "winners = []\n",
    "for i in range(0,2000):\n",
    "    game = Game(5)\n",
    "    winner, result = game.play_game()\n",
    "    winners.append(winner)\n",
    "    results3 = results3.append(result)"
   ]
  },
  {
   "cell_type": "code",
   "execution_count": 96,
   "metadata": {},
   "outputs": [],
   "source": [
    "results3.to_csv('Data/gen_3.csv')"
   ]
  },
  {
   "cell_type": "code",
   "execution_count": 97,
   "metadata": {},
   "outputs": [
    {
     "data": {
      "text/plain": [
       "dict_values([398, 453, 415, 362, 372])"
      ]
     },
     "execution_count": 97,
     "metadata": {},
     "output_type": "execute_result"
    }
   ],
   "source": [
    "freqs = Counter(winners)\n",
    "freqs.values()"
   ]
  },
  {
   "cell_type": "code",
   "execution_count": 100,
   "metadata": {},
   "outputs": [
    {
     "data": {
      "image/png": "[encoded data removed]",
      "text/plain": [
       "<Figure size 432x288 with 1 Axes>"
      ]
     },
     "metadata": {},
     "output_type": "display_data"
    }
   ],
   "source": [
    "y = np.array([362, 372,398, 453, 415])/2000\n",
    "# Make the plot\n",
    "x = [i for i, _ in enumerate(strategies)]\n",
    "plt.bar(x, y, linewidth=3, linestyle=\"--\",\n",
    "         color=\"blue\", alpha = 0.5)\n",
    "plt.xlabel(r\"Strategy\")\n",
    "plt.ylabel(r\"Winning Percentage\")\n",
    "plt.title(r\"Generation 3 Results\")\n",
    "plt.xticks(x, strategies)\n",
    "plt.show()"
   ]
  },
  {
   "cell_type": "markdown",
   "metadata": {},
   "source": [
    "# 4th Generation"
   ]
  },
  {
   "cell_type": "code",
   "execution_count": null,
   "metadata": {},
   "outputs": [],
   "source": []
  }
 ],
 "metadata": {
  "kernelspec": {
   "display_name": "Python 3",
   "language": "python",
   "name": "python3"
  },
  "language_info": {
   "codemirror_mode": {
    "name": "ipython",
    "version": 3
   },
   "file_extension": ".py",
   "mimetype": "text/x-python",
   "name": "python",
   "nbconvert_exporter": "python",
   "pygments_lexer": "ipython3",
   "version": "3.6.5"
  },
  "toc": {
   "base_numbering": 1,
   "nav_menu": {},
   "number_sections": false,
   "sideBar": true,
   "skip_h1_title": false,
   "title_cell": "Table of Contents",
   "title_sidebar": "Contents",
   "toc_cell": false,
   "toc_position": {},
   "toc_section_display": true,
   "toc_window_display": true
  },
  "varInspector": {
   "cols": {
    "lenName": 16,
    "lenType": 16,
    "lenVar": 40
   },
   "kernels_config": {
    "python": {
     "delete_cmd_postfix": "",
     "delete_cmd_prefix": "del ",
     "library": "var_list.py",
     "varRefreshCmd": "print(var_dic_list())"
    },
    "r": {
     "delete_cmd_postfix": ") ",
     "delete_cmd_prefix": "rm(",
     "library": "var_list.r",
     "varRefreshCmd": "cat(var_dic_list()) "
    }
   },
   "types_to_exclude": [
    "module",
    "function",
    "builtin_function_or_method",
    "instance",
    "_Feature"
   ],
   "window_display": false
  }
 },
 "nbformat": 4,
 "nbformat_minor": 2
}
